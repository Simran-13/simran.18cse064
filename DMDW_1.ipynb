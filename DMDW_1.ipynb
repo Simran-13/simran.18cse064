{
  "nbformat": 4,
  "nbformat_minor": 0,
  "metadata": {
    "colab": {
      "name": "DMDW_1.ipynb",
      "provenance": [],
      "authorship_tag": "ABX9TyMCQb8ki1ue48fZ4lIYK7ia",
      "include_colab_link": true
    },
    "kernelspec": {
      "name": "python3",
      "display_name": "Python 3"
    }
  },
  "cells": [
    {
      "cell_type": "markdown",
      "metadata": {
        "id": "view-in-github",
        "colab_type": "text"
      },
      "source": [
        "<a href=\"https://colab.research.google.com/github/Simran-13/simran.18cse064/blob/main/DMDW_1.ipynb\" target=\"_parent\"><img src=\"https://colab.research.google.com/assets/colab-badge.svg\" alt=\"Open In Colab\"/></a>"
      ]
    },
    {
      "cell_type": "markdown",
      "metadata": {
        "id": "ZEN1p9d8fPVF"
      },
      "source": [
        "### Lab-**1** (Basic Commands in Python)"
      ]
    },
    {
      "cell_type": "code",
      "metadata": {
        "colab": {
          "base_uri": "https://localhost:8080/"
        },
        "id": "o9T8AAoafLmM",
        "outputId": "401485b4-d9db-4c37-df40-d5b7aa93e11f"
      },
      "source": [
        "a=5\n",
        "b=10\n",
        "print(a+b)"
      ],
      "execution_count": 18,
      "outputs": [
        {
          "output_type": "stream",
          "text": [
            "15\n"
          ],
          "name": "stdout"
        }
      ]
    },
    {
      "cell_type": "code",
      "metadata": {
        "id": "XClOa8TpfztU"
      },
      "source": [
        "print?"
      ],
      "execution_count": 19,
      "outputs": []
    },
    {
      "cell_type": "code",
      "metadata": {
        "colab": {
          "base_uri": "https://localhost:8080/"
        },
        "id": "U3r5GKRof4k_",
        "outputId": "63a6cff1-4eef-43ff-a995-a1fb553b411f"
      },
      "source": [
        "n_num = [17, 17, 8, 9, 9]\n",
        "n=len(n_num)\n",
        "s=sum(n_num)\n",
        "mean=s/n\n",
        "print(\"Mean is\",mean)"
      ],
      "execution_count": 20,
      "outputs": [
        {
          "output_type": "stream",
          "text": [
            "Mean is 12.0\n"
          ],
          "name": "stdout"
        }
      ]
    },
    {
      "cell_type": "code",
      "metadata": {
        "colab": {
          "base_uri": "https://localhost:8080/"
        },
        "id": "DmHKBl2IgFSx",
        "outputId": "cd158ba1-32fc-4bea-bb8e-38956a29c068"
      },
      "source": [
        "n_num = [17, 17, 8, 9, 9]\n",
        "n=len(n_num)\n",
        "n_num.sort()\n",
        "if n%2==0:\n",
        "  m1=n_num[n//2]\n",
        "  m2=n_num[n//2-1]\n",
        "  median=(m1+m2)/2\n",
        "else:\n",
        "  median=n_num[n//2]\n",
        "print(\"Median is\",median)"
      ],
      "execution_count": 21,
      "outputs": [
        {
          "output_type": "stream",
          "text": [
            "Median is 9\n"
          ],
          "name": "stdout"
        }
      ]
    },
    {
      "cell_type": "code",
      "metadata": {
        "colab": {
          "base_uri": "https://localhost:8080/"
        },
        "id": "O60N_Mo-gsSM",
        "outputId": "aae6779d-28f7-4d49-88de-2e425cbca9a8"
      },
      "source": [
        "from collections import Counter \n",
        "\n",
        "n_num = [17, 17, 8, 9, 9]\n",
        "n = len(n_num) \n",
        "  \n",
        "data = Counter(n_num) \n",
        "get_mode = dict(data) \n",
        "mode = [k for k, v in get_mode.items() if v == max(list(data.values()))] \n",
        "  \n",
        "if len(mode) == n: \n",
        "    get_mode = \"No mode found\"\n",
        "else: \n",
        "    get_mode = \"Mode is / are: \" + ', '.join(map(str, mode)) \n",
        "      \n",
        "print(get_mode)"
      ],
      "execution_count": 22,
      "outputs": [
        {
          "output_type": "stream",
          "text": [
            "Mode is / are: 17, 9\n"
          ],
          "name": "stdout"
        }
      ]
    },
    {
      "cell_type": "code",
      "metadata": {
        "colab": {
          "base_uri": "https://localhost:8080/"
        },
        "id": "sDMH1qiNgv7H",
        "outputId": "ca377090-bd90-46f6-cb9b-237611ed9893"
      },
      "source": [
        "def variance(data):\n",
        "     n = len(data)\n",
        "     mean = sum(data) / n\n",
        "     deviations = [(x - mean) ** 2 for x in data]\n",
        "     variance = sum(deviations) / (n-1)\n",
        "     return variance\n",
        "variance([17, 17, 8, 9, 9, 2, 2, 2, 5, 5])"
      ],
      "execution_count": 23,
      "outputs": [
        {
          "output_type": "execute_result",
          "data": {
            "text/plain": [
              "32.044444444444444"
            ]
          },
          "metadata": {
            "tags": []
          },
          "execution_count": 23
        }
      ]
    },
    {
      "cell_type": "code",
      "metadata": {
        "colab": {
          "base_uri": "https://localhost:8080/"
        },
        "id": "OF6DD26xupRS",
        "outputId": "89f770fe-e2a5-4e59-c102-dad1da367a22"
      },
      "source": [
        "import math\n",
        "def variance(data):\n",
        "     n = len(data)\n",
        "     mean = sum(data) / n\n",
        "     return sum((x - mean) ** 2 for x in data) / (n -1)\n",
        "\n",
        "\n",
        "def stdev(data):\n",
        "     var = variance(data)\n",
        "     std_dev = math.sqrt(var)\n",
        "     return std_dev\n",
        "stdev([17, 17, 8, 9, 9, 2, 2, 2, 5, 5])"
      ],
      "execution_count": 24,
      "outputs": [
        {
          "output_type": "execute_result",
          "data": {
            "text/plain": [
              "5.660781257427675"
            ]
          },
          "metadata": {
            "tags": []
          },
          "execution_count": 24
        }
      ]
    },
    {
      "cell_type": "code",
      "metadata": {
        "colab": {
          "base_uri": "https://localhost:8080/"
        },
        "id": "q6kYBa_YLzAa",
        "outputId": "9dd40622-8920-4008-f9a7-95b605e75760"
      },
      "source": [
        "L = [1, \"a\" , \"simran_kumari\" , 1+2] \n",
        "print (L) \n",
        "L.append(6) \n",
        "print (L)\n",
        "L.pop() \n",
        "print (L) \n",
        "print (L[1])"
      ],
      "execution_count": 26,
      "outputs": [
        {
          "output_type": "stream",
          "text": [
            "[1, 'a', 'simran_kumari', 3]\n",
            "[1, 'a', 'simran_kumari', 3, 6]\n",
            "[1, 'a', 'simran_kumari', 3]\n",
            "a\n"
          ],
          "name": "stdout"
        }
      ]
    },
    {
      "cell_type": "code",
      "metadata": {
        "colab": {
          "base_uri": "https://localhost:8080/"
        },
        "id": "WG471PV0L47K",
        "outputId": "22a2d8fa-91bc-4ee6-df64-bcd693206864"
      },
      "source": [
        "tup = (1, \"a\", \"simran_kumari\", 1+2) \n",
        "print(tup) \n",
        "print(tup[1])"
      ],
      "execution_count": 27,
      "outputs": [
        {
          "output_type": "stream",
          "text": [
            "(1, 'a', 'simran_kumari', 3)\n",
            "a\n"
          ],
          "name": "stdout"
        }
      ]
    },
    {
      "cell_type": "code",
      "metadata": {
        "colab": {
          "base_uri": "https://localhost:8080/"
        },
        "id": "rK2r69UlL9sc",
        "outputId": "648b6606-84b9-40e8-ce0a-97bc019a4a03"
      },
      "source": [
        "month={1:'JAN',2:'FEB',3:'MAR',4:'APR',5:'MAY',6:'JUNE',7:'JULY',8:'AUG',9:'SEP',10:'OCT',11:'NOV',12:'DEC'}\n",
        "print(month[1],month[3])\n",
        "print(month)"
      ],
      "execution_count": 28,
      "outputs": [
        {
          "output_type": "stream",
          "text": [
            "JAN MAR\n",
            "{1: 'JAN', 2: 'FEB', 3: 'MAR', 4: 'APR', 5: 'MAY', 6: 'JUNE', 7: 'JULY', 8: 'AUG', 9: 'SEP', 10: 'OCT', 11: 'NOV', 12: 'DEC'}\n"
          ],
          "name": "stdout"
        }
      ]
    }
  ]
}